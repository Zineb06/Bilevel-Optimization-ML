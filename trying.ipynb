{
 "cells": [
  {
   "cell_type": "code",
   "execution_count": 1,
   "id": "522cd19d-e9ed-4883-b12c-83d466ede4a6",
   "metadata": {},
   "outputs": [],
   "source": [
    "import sys\n",
    "import idx2numpy\n",
    "import pandas as pd\n",
    "import numpy as np\n",
    "import torch\n",
    "import torch.optim as optim\n",
    "import torch.nn as nn\n",
    "from load_datasets import load_data_from_csv,one_hot\n",
    "\n",
    "def acc(W,b,img,lab):\n",
    "    ss = nn.Softmax(1)\n",
    "    hat_label = torch.mm(img,W)+b\n",
    "    sm_hat_label = ss(hat_label)\n",
    "    aab = torch.sum(abs(ss(hat_label)-lab),axis=1)\n",
    "    return torch.sum(abs(aab)<=1e-3)/len(img)\n",
    "\n",
    "def acc0(W,b,img,lab):\n",
    "    ss = nn.Softmax(1)\n",
    "    hat_label = torch.mm(img,W)+b\n",
    "    sm_hat_label=ss(hat_label)\n",
    "    max_sm_hat_label=torch.max(abs(sm_hat_label),1)\n",
    "    sum1=torch.sum(abs(one_hot(max_sm_hat_label.indices)-lab)<=1e-3)\n",
    "    return sum1/5000\n",
    "    \n",
    "def test(W,b,img,lab):\n",
    "    ss = nn.Softmax(1)\n",
    "    img1 = img[:5000]\n",
    "    lab1 = lab[:5000]\n",
    "    img2 = img[5000:]\n",
    "    lab2 = lab[5000:]\n",
    "    acc1 = acc0(W,b,img1,lab1)\n",
    "    acc2 = acc0(W,b,img2,lab2)\n",
    "    return (acc1+acc2)/2\n"
   ]
  },
  {
   "cell_type": "code",
   "execution_count": 2,
   "id": "31a2b00f-ecb3-4af4-8919-28ee8ae830b9",
   "metadata": {},
   "outputs": [
    {
     "name": "stdout",
     "output_type": "stream",
     "text": [
      "['acc=8.188800811767578', 'loss2=409.8436584472656']\n",
      "['acc=8.212200164794922', 'loss2=72.89282989501953']\n",
      "['acc=8.214599609375', 'loss2=56.79449462890625']\n"
     ]
    },
    {
     "ename": "KeyboardInterrupt",
     "evalue": "",
     "output_type": "error",
     "traceback": [
      "\u001b[0;31m---------------------------------------------------------------------------\u001b[0m",
      "\u001b[0;31mKeyboardInterrupt\u001b[0m                         Traceback (most recent call last)",
      "Cell \u001b[0;32mIn[2], line 29\u001b[0m\n\u001b[1;32m     27\u001b[0m hat_label2 \u001b[38;5;241m=\u001b[39m torch\u001b[38;5;241m.\u001b[39mmm(img_val,W)\u001b[38;5;241m+\u001b[39mb\n\u001b[1;32m     28\u001b[0m loss2 \u001b[38;5;241m=\u001b[39m CrossEntropy(hat_label2, lab_val)\u001b[38;5;66;03m#+ 1e-3*torch.norm(W,'fro')**2\u001b[39;00m\n\u001b[0;32m---> 29\u001b[0m \u001b[43mloss2\u001b[49m\u001b[38;5;241;43m.\u001b[39;49m\u001b[43mbackward\u001b[49m\u001b[43m(\u001b[49m\u001b[43m)\u001b[49m\n\u001b[1;32m     30\u001b[0m \u001b[38;5;28;01mif\u001b[39;00m k \u001b[38;5;241m%\u001b[39m \u001b[38;5;241m50\u001b[39m \u001b[38;5;241m==\u001b[39m \u001b[38;5;241m0\u001b[39m:\n\u001b[1;32m     31\u001b[0m     \u001b[38;5;28mprint\u001b[39m([\u001b[38;5;124mf\u001b[39m\u001b[38;5;124m'\u001b[39m\u001b[38;5;124macc=\u001b[39m\u001b[38;5;132;01m{\u001b[39;00mtest(W,b,img_test,lab_test)\u001b[38;5;132;01m}\u001b[39;00m\u001b[38;5;124m'\u001b[39m,\u001b[38;5;124mf\u001b[39m\u001b[38;5;124m'\u001b[39m\u001b[38;5;124mloss2=\u001b[39m\u001b[38;5;132;01m{\u001b[39;00mloss2\u001b[38;5;132;01m}\u001b[39;00m\u001b[38;5;124m'\u001b[39m])\n",
      "File \u001b[0;32m~/tf-env/lib/python3.10/site-packages/torch/_tensor.py:492\u001b[0m, in \u001b[0;36mTensor.backward\u001b[0;34m(self, gradient, retain_graph, create_graph, inputs)\u001b[0m\n\u001b[1;32m    482\u001b[0m \u001b[38;5;28;01mif\u001b[39;00m has_torch_function_unary(\u001b[38;5;28mself\u001b[39m):\n\u001b[1;32m    483\u001b[0m     \u001b[38;5;28;01mreturn\u001b[39;00m handle_torch_function(\n\u001b[1;32m    484\u001b[0m         Tensor\u001b[38;5;241m.\u001b[39mbackward,\n\u001b[1;32m    485\u001b[0m         (\u001b[38;5;28mself\u001b[39m,),\n\u001b[0;32m   (...)\u001b[0m\n\u001b[1;32m    490\u001b[0m         inputs\u001b[38;5;241m=\u001b[39minputs,\n\u001b[1;32m    491\u001b[0m     )\n\u001b[0;32m--> 492\u001b[0m \u001b[43mtorch\u001b[49m\u001b[38;5;241;43m.\u001b[39;49m\u001b[43mautograd\u001b[49m\u001b[38;5;241;43m.\u001b[39;49m\u001b[43mbackward\u001b[49m\u001b[43m(\u001b[49m\n\u001b[1;32m    493\u001b[0m \u001b[43m    \u001b[49m\u001b[38;5;28;43mself\u001b[39;49m\u001b[43m,\u001b[49m\u001b[43m \u001b[49m\u001b[43mgradient\u001b[49m\u001b[43m,\u001b[49m\u001b[43m \u001b[49m\u001b[43mretain_graph\u001b[49m\u001b[43m,\u001b[49m\u001b[43m \u001b[49m\u001b[43mcreate_graph\u001b[49m\u001b[43m,\u001b[49m\u001b[43m \u001b[49m\u001b[43minputs\u001b[49m\u001b[38;5;241;43m=\u001b[39;49m\u001b[43minputs\u001b[49m\n\u001b[1;32m    494\u001b[0m \u001b[43m\u001b[49m\u001b[43m)\u001b[49m\n",
      "File \u001b[0;32m~/tf-env/lib/python3.10/site-packages/torch/autograd/__init__.py:251\u001b[0m, in \u001b[0;36mbackward\u001b[0;34m(tensors, grad_tensors, retain_graph, create_graph, grad_variables, inputs)\u001b[0m\n\u001b[1;32m    246\u001b[0m     retain_graph \u001b[38;5;241m=\u001b[39m create_graph\n\u001b[1;32m    248\u001b[0m \u001b[38;5;66;03m# The reason we repeat the same comment below is that\u001b[39;00m\n\u001b[1;32m    249\u001b[0m \u001b[38;5;66;03m# some Python versions print out the first line of a multi-line function\u001b[39;00m\n\u001b[1;32m    250\u001b[0m \u001b[38;5;66;03m# calls in the traceback and some print out the last line\u001b[39;00m\n\u001b[0;32m--> 251\u001b[0m \u001b[43mVariable\u001b[49m\u001b[38;5;241;43m.\u001b[39;49m\u001b[43m_execution_engine\u001b[49m\u001b[38;5;241;43m.\u001b[39;49m\u001b[43mrun_backward\u001b[49m\u001b[43m(\u001b[49m\u001b[43m  \u001b[49m\u001b[38;5;66;43;03m# Calls into the C++ engine to run the backward pass\u001b[39;49;00m\n\u001b[1;32m    252\u001b[0m \u001b[43m    \u001b[49m\u001b[43mtensors\u001b[49m\u001b[43m,\u001b[49m\n\u001b[1;32m    253\u001b[0m \u001b[43m    \u001b[49m\u001b[43mgrad_tensors_\u001b[49m\u001b[43m,\u001b[49m\n\u001b[1;32m    254\u001b[0m \u001b[43m    \u001b[49m\u001b[43mretain_graph\u001b[49m\u001b[43m,\u001b[49m\n\u001b[1;32m    255\u001b[0m \u001b[43m    \u001b[49m\u001b[43mcreate_graph\u001b[49m\u001b[43m,\u001b[49m\n\u001b[1;32m    256\u001b[0m \u001b[43m    \u001b[49m\u001b[43minputs\u001b[49m\u001b[43m,\u001b[49m\n\u001b[1;32m    257\u001b[0m \u001b[43m    \u001b[49m\u001b[43mallow_unreachable\u001b[49m\u001b[38;5;241;43m=\u001b[39;49m\u001b[38;5;28;43;01mTrue\u001b[39;49;00m\u001b[43m,\u001b[49m\n\u001b[1;32m    258\u001b[0m \u001b[43m    \u001b[49m\u001b[43maccumulate_grad\u001b[49m\u001b[38;5;241;43m=\u001b[39;49m\u001b[38;5;28;43;01mTrue\u001b[39;49;00m\u001b[43m,\u001b[49m\n\u001b[1;32m    259\u001b[0m \u001b[43m\u001b[49m\u001b[43m)\u001b[49m\n",
      "\u001b[0;31mKeyboardInterrupt\u001b[0m: "
     ]
    }
   ],
   "source": [
    "p = 28\n",
    "C = 10\n",
    "N = 5000\n",
    "\n",
    "img_tr, lab_tr, img_val, lab_val, img_test, lab_test = load_data_from_csv(0)\n",
    "\n",
    "W = torch.rand([p**2,C],requires_grad=True)\n",
    "b = torch.rand([N,C],requires_grad=True)\n",
    "la = torch.rand([N,1],requires_grad=True)\n",
    "CrossEntropy = nn.CrossEntropyLoss()\n",
    "\n",
    "optimizer = optim.Adam([W,b],lr=1e-2)\n",
    "optimizer1 = optim.Adam([la],lr=1e-3)\n",
    "\n",
    "lr = 1e-2\n",
    "for k in range(500):\n",
    "    optimizer1.zero_grad()\n",
    "    for i in range(20):\n",
    "        optimizer.zero_grad()\n",
    "        hat_label = torch.mm(img_tr,W)+b\n",
    "        loss1 = CrossEntropy(la*hat_label, lab_tr)\n",
    "        #if i % 20 == 0:\n",
    "            #print(f'loss1={loss1}')\n",
    "        loss1.backward()\n",
    "        optimizer.step()\n",
    "\n",
    "    hat_label2 = torch.mm(img_val,W)+b\n",
    "    loss2 = CrossEntropy(hat_label2, lab_val)#+ 1e-3*torch.norm(W,'fro')**2\n",
    "    loss2.backward()\n",
    "    if k % 50 == 0:\n",
    "        print([f'acc={test(W,b,img_test,lab_test)}',f'loss2={loss2}'])\n",
    "    #with torch.no_grad():\n",
    "        #la -= lr * la.grad\n",
    "    optimizer1.step() \n"
   ]
  },
  {
   "cell_type": "code",
   "execution_count": null,
   "id": "50053f48-fb0b-4ecd-8485-693d50eca3ab",
   "metadata": {},
   "outputs": [],
   "source": [
    "import torch\n",
    "\n",
    "# 假设 outputs 是你模型的输出, targets 是真实的标签\n",
    "outputs = torch.tensor([[0.1, 0.2, 0.7], [0.7, 0.2, 0.1]])\n",
    "targets = torch.tensor([2, 0])\n",
    "\n",
    "# 获得最大概率对应的类别\n",
    "_, predicted = torch.max(outputs, 1)\n",
    "print(predicted)\n",
    "# 比较预测结果与真实标签\n",
    "correct = (predicted == targets).sum().item()\n",
    "\n",
    "print(f'正确标签数：{correct}')\n",
    "print(f'总标签数：{targets.size(0)}')\n",
    "print(f'准确率：{correct / targets.size(0)}')"
   ]
  },
  {
   "cell_type": "code",
   "execution_count": null,
   "id": "b1b92149-9fcc-4f58-bbd4-c4815921427f",
   "metadata": {},
   "outputs": [],
   "source": [
    "import torch\n",
    "import torchvision.transforms as transforms\n",
    "from PIL import Image\n",
    "import matplotlib.pyplot as plt\n",
    "\n",
    "img_tr, lab_tr, img_val, lab_val, img_test, lab_test = load_data_from_csv()\n",
    "\n",
    "# 看图的部分\n",
    "plt.imshow(img_tr[1].reshape([-1,28]))\n",
    "plt.title(lab_tr[1])"
   ]
  },
  {
   "cell_type": "code",
   "execution_count": null,
   "id": "0e628580-8423-497e-8a5b-a87a6d403a24",
   "metadata": {},
   "outputs": [],
   "source": [
    "len(img_val)"
   ]
  },
  {
   "cell_type": "code",
   "execution_count": 3,
   "id": "1b04da8c-dc07-4d77-bf4e-893576eb812a",
   "metadata": {},
   "outputs": [],
   "source": [
    "ss = nn.Softmax(1)\n",
    "hat_label = torch.mm(img_val,W)+b\n",
    "sm_hat_label=ss(hat_label)\n",
    "max_sm_hat_label=torch.max(abs(sm_hat_label),1)\n",
    "sum1=torch.sum(abs(one_hot(max_sm_hat_label.indices)-lab_val)<=1e-3)\n"
   ]
  },
  {
   "cell_type": "code",
   "execution_count": 4,
   "id": "26723e43-9f56-4ec2-9b64-0cdfc3c9bf16",
   "metadata": {},
   "outputs": [
    {
     "name": "stdout",
     "output_type": "stream",
     "text": [
      "tensor(41078)\n"
     ]
    }
   ],
   "source": [
    "print(sum1)"
   ]
  },
  {
   "cell_type": "code",
   "execution_count": null,
   "id": "89fab6dd-beb2-4bd3-933b-8928aa025104",
   "metadata": {},
   "outputs": [],
   "source": []
  }
 ],
 "metadata": {
  "kernelspec": {
   "display_name": "Python 3 (ipykernel)",
   "language": "python",
   "name": "python3"
  },
  "language_info": {
   "codemirror_mode": {
    "name": "ipython",
    "version": 3
   },
   "file_extension": ".py",
   "mimetype": "text/x-python",
   "name": "python",
   "nbconvert_exporter": "python",
   "pygments_lexer": "ipython3",
   "version": "3.10.12"
  }
 },
 "nbformat": 4,
 "nbformat_minor": 5
}
